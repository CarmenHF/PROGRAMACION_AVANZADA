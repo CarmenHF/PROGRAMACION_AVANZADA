{
  "nbformat": 4,
  "nbformat_minor": 0,
  "metadata": {
    "colab": {
      "provenance": []
    },
    "kernelspec": {
      "name": "python3",
      "display_name": "Python 3"
    },
    "language_info": {
      "name": "python"
    }
  },
  "cells": [
    {
      "cell_type": "code",
      "execution_count": null,
      "metadata": {
        "id": "Ys-HSIsEoYLx"
      },
      "outputs": [],
      "source": []
    },
    {
      "cell_type": "markdown",
      "source": [
        "# IMPLEMENTACION DEL PERCEPTRON\n",
        "## Objetivo\n",
        "Implementar y entrenar un perceptrón en Python que permita clasificar solicitudes de préstamo en aprobadas (1) o rechazadas (0), en función de variables financieras relevantes. Se busca reforzar el conocimiento en aprendizaje supervisado, el ajuste de pesos en redes neuronales simples y la implementación de modelos de clasificación binaria.\n",
        "### Elaborado por: Carmen Hernandez F.\n",
        "#### Fecha de Elaboracion: 18/02/2025"
      ],
      "metadata": {
        "id": "imLg7s2zoZH0"
      }
    },
    {
      "cell_type": "code",
      "source": [
        "import numpy as np\n",
        "\n",
        "# Datos de entrenamiento\n",
        "X = np.array([\n",
        "    [750, 5.0, 20.0, 0.3],\n",
        "    [600, 3.0, 15.0, 0.6],\n",
        "    [680, 4.0, 10.0, 0.4],\n",
        "    [550, 2.5, 8.0, 0.7],\n",
        "    [800, 6.0, 25.0, 0.2]\n",
        "])\n",
        "\n",
        "y = np.array([1, 0, 1, 0, 1])\n",
        "\n",
        "# Normalización de datos\n",
        "X = (X - X.min(axis=0)) / (X.max(axis=0) - X.min(axis=0))\n",
        "\n",
        "# Parámetros del perceptrón\n",
        "learning_rate = 0.1\n",
        "epochs = 10\n",
        "weights = np.random.rand(X.shape[1])\n",
        "bias = np.random.rand()\n",
        "\n",
        "def activation_function(x):\n",
        "    return 1 if x >= 0 else 0\n",
        "\n",
        "# Entrenamiento del perceptrón\n",
        "for epoch in range(epochs):\n",
        "    print(f\"Época: {epoch + 1} :\")\n",
        "    for i in range(len(X)):\n",
        "        linear_output = np.dot(X[i], weights) + bias\n",
        "        prediction = activation_function(linear_output)\n",
        "        error = y[i] - prediction\n",
        "\n",
        "        weights += learning_rate * error * X[i]\n",
        "        bias += learning_rate * error\n",
        "\n",
        "        print(f\" Muestra {i+1}: Entrada {X[i]}, Salida esperada {y[i]}, predicción {prediction}, error {error}\")\n",
        "    print(f\" Pesos actualizados: {weights}, bias actualizada {bias}\\n\")\n",
        "\n",
        "print(\"=========Evaluación del modelo==========\")\n",
        "nuevo_dato = np.array([700, 4.5, 18.0, 0.35])\n",
        "nuevo_dato = (nuevo_dato - X.min(axis=0)) / (X.max(axis=0) - X.min(axis=0))\n",
        "Salida = activation_function(np.dot(nuevo_dato, weights) + bias)\n",
        "print(f\"El modelo evaluado para entrada {nuevo_dato} = {Salida}\")\n",
        "if Salida == 1:\n",
        "    print(\"El préstamo será aprobado.\")\n",
        "else:\n",
        "    print(\"El préstamo será rechazado.\")\n",
        ""
      ],
      "metadata": {
        "colab": {
          "base_uri": "https://localhost:8080/"
        },
        "id": "BXj8MM6Ko865",
        "outputId": "b67eed59-2c2c-4966-a087-5397ebe92433"
      },
      "execution_count": 1,
      "outputs": [
        {
          "output_type": "stream",
          "name": "stdout",
          "text": [
            "Época: 1 :\n",
            " Muestra 1: Entrada [0.8        0.71428571 0.70588235 0.2       ], Salida esperada 1, predicción 1, error 0\n",
            " Muestra 2: Entrada [0.2        0.14285714 0.41176471 0.8       ], Salida esperada 0, predicción 1, error -1\n",
            " Muestra 3: Entrada [0.52       0.42857143 0.11764706 0.4       ], Salida esperada 1, predicción 1, error 0\n",
            " Muestra 4: Entrada [0. 0. 0. 1.], Salida esperada 0, predicción 1, error -1\n",
            " Muestra 5: Entrada [1. 1. 1. 0.], Salida esperada 1, predicción 1, error 0\n",
            " Pesos actualizados: [0.25034369 0.81568559 0.90033599 0.65896956], bias actualizada 0.6375337460269871\n",
            "\n",
            "Época: 2 :\n",
            " Muestra 1: Entrada [0.8        0.71428571 0.70588235 0.2       ], Salida esperada 1, predicción 1, error 0\n",
            " Muestra 2: Entrada [0.2        0.14285714 0.41176471 0.8       ], Salida esperada 0, predicción 1, error -1\n",
            " Muestra 3: Entrada [0.52       0.42857143 0.11764706 0.4       ], Salida esperada 1, predicción 1, error 0\n",
            " Muestra 4: Entrada [0. 0. 0. 1.], Salida esperada 0, predicción 1, error -1\n",
            " Muestra 5: Entrada [1. 1. 1. 0.], Salida esperada 1, predicción 1, error 0\n",
            " Pesos actualizados: [0.23034369 0.80139987 0.85915952 0.47896956], bias actualizada 0.43753374602698714\n",
            "\n",
            "Época: 3 :\n",
            " Muestra 1: Entrada [0.8        0.71428571 0.70588235 0.2       ], Salida esperada 1, predicción 1, error 0\n",
            " Muestra 2: Entrada [0.2        0.14285714 0.41176471 0.8       ], Salida esperada 0, predicción 1, error -1\n",
            " Muestra 3: Entrada [0.52       0.42857143 0.11764706 0.4       ], Salida esperada 1, predicción 1, error 0\n",
            " Muestra 4: Entrada [0. 0. 0. 1.], Salida esperada 0, predicción 1, error -1\n",
            " Muestra 5: Entrada [1. 1. 1. 0.], Salida esperada 1, predicción 1, error 0\n",
            " Pesos actualizados: [0.21034369 0.78711416 0.81798305 0.29896956], bias actualizada 0.23753374602698715\n",
            "\n",
            "Época: 4 :\n",
            " Muestra 1: Entrada [0.8        0.71428571 0.70588235 0.2       ], Salida esperada 1, predicción 1, error 0\n",
            " Muestra 2: Entrada [0.2        0.14285714 0.41176471 0.8       ], Salida esperada 0, predicción 1, error -1\n",
            " Muestra 3: Entrada [0.52       0.42857143 0.11764706 0.4       ], Salida esperada 1, predicción 1, error 0\n",
            " Muestra 4: Entrada [0. 0. 0. 1.], Salida esperada 0, predicción 1, error -1\n",
            " Muestra 5: Entrada [1. 1. 1. 0.], Salida esperada 1, predicción 1, error 0\n",
            " Pesos actualizados: [0.19034369 0.77282844 0.77680658 0.11896956], bias actualizada 0.03753374602698714\n",
            "\n",
            "Época: 5 :\n",
            " Muestra 1: Entrada [0.8        0.71428571 0.70588235 0.2       ], Salida esperada 1, predicción 1, error 0\n",
            " Muestra 2: Entrada [0.2        0.14285714 0.41176471 0.8       ], Salida esperada 0, predicción 1, error -1\n",
            " Muestra 3: Entrada [0.52       0.42857143 0.11764706 0.4       ], Salida esperada 1, predicción 1, error 0\n",
            " Muestra 4: Entrada [0. 0. 0. 1.], Salida esperada 0, predicción 0, error 0\n",
            " Muestra 5: Entrada [1. 1. 1. 0.], Salida esperada 1, predicción 1, error 0\n",
            " Pesos actualizados: [0.17034369 0.75854273 0.7356301  0.03896956], bias actualizada -0.062466253973012864\n",
            "\n",
            "Época: 6 :\n",
            " Muestra 1: Entrada [0.8        0.71428571 0.70588235 0.2       ], Salida esperada 1, predicción 1, error 0\n",
            " Muestra 2: Entrada [0.2        0.14285714 0.41176471 0.8       ], Salida esperada 0, predicción 1, error -1\n",
            " Muestra 3: Entrada [0.52       0.42857143 0.11764706 0.4       ], Salida esperada 1, predicción 1, error 0\n",
            " Muestra 4: Entrada [0. 0. 0. 1.], Salida esperada 0, predicción 0, error 0\n",
            " Muestra 5: Entrada [1. 1. 1. 0.], Salida esperada 1, predicción 1, error 0\n",
            " Pesos actualizados: [ 0.15034369  0.74425702  0.69445363 -0.04103044], bias actualizada -0.16246625397301287\n",
            "\n",
            "Época: 7 :\n",
            " Muestra 1: Entrada [0.8        0.71428571 0.70588235 0.2       ], Salida esperada 1, predicción 1, error 0\n",
            " Muestra 2: Entrada [0.2        0.14285714 0.41176471 0.8       ], Salida esperada 0, predicción 1, error -1\n",
            " Muestra 3: Entrada [0.52       0.42857143 0.11764706 0.4       ], Salida esperada 1, predicción 1, error 0\n",
            " Muestra 4: Entrada [0. 0. 0. 1.], Salida esperada 0, predicción 0, error 0\n",
            " Muestra 5: Entrada [1. 1. 1. 0.], Salida esperada 1, predicción 1, error 0\n",
            " Pesos actualizados: [ 0.13034369  0.7299713   0.65327716 -0.12103044], bias actualizada -0.2624662539730129\n",
            "\n",
            "Época: 8 :\n",
            " Muestra 1: Entrada [0.8        0.71428571 0.70588235 0.2       ], Salida esperada 1, predicción 1, error 0\n",
            " Muestra 2: Entrada [0.2        0.14285714 0.41176471 0.8       ], Salida esperada 0, predicción 1, error -1\n",
            " Muestra 3: Entrada [0.52       0.42857143 0.11764706 0.4       ], Salida esperada 1, predicción 0, error 1\n",
            " Muestra 4: Entrada [0. 0. 0. 1.], Salida esperada 0, predicción 0, error 0\n",
            " Muestra 5: Entrada [1. 1. 1. 0.], Salida esperada 1, predicción 1, error 0\n",
            " Pesos actualizados: [ 0.16234369  0.75854273  0.6238654  -0.16103044], bias actualizada -0.26246625397301293\n",
            "\n",
            "Época: 9 :\n",
            " Muestra 1: Entrada [0.8        0.71428571 0.70588235 0.2       ], Salida esperada 1, predicción 1, error 0\n",
            " Muestra 2: Entrada [0.2        0.14285714 0.41176471 0.8       ], Salida esperada 0, predicción 1, error -1\n",
            " Muestra 3: Entrada [0.52       0.42857143 0.11764706 0.4       ], Salida esperada 1, predicción 1, error 0\n",
            " Muestra 4: Entrada [0. 0. 0. 1.], Salida esperada 0, predicción 0, error 0\n",
            " Muestra 5: Entrada [1. 1. 1. 0.], Salida esperada 1, predicción 1, error 0\n",
            " Pesos actualizados: [ 0.14234369  0.74425702  0.58268893 -0.24103044], bias actualizada -0.3624662539730129\n",
            "\n",
            "Época: 10 :\n",
            " Muestra 1: Entrada [0.8        0.71428571 0.70588235 0.2       ], Salida esperada 1, predicción 1, error 0\n",
            " Muestra 2: Entrada [0.2        0.14285714 0.41176471 0.8       ], Salida esperada 0, predicción 0, error 0\n",
            " Muestra 3: Entrada [0.52       0.42857143 0.11764706 0.4       ], Salida esperada 1, predicción 1, error 0\n",
            " Muestra 4: Entrada [0. 0. 0. 1.], Salida esperada 0, predicción 0, error 0\n",
            " Muestra 5: Entrada [1. 1. 1. 0.], Salida esperada 1, predicción 1, error 0\n",
            " Pesos actualizados: [ 0.14234369  0.74425702  0.58268893 -0.24103044], bias actualizada -0.3624662539730129\n",
            "\n",
            "=========Evaluación del modelo==========\n",
            "El modelo evaluado para entrada [7.0e+02 4.5e+00 1.8e+01 3.5e-01] = 1\n",
            "El préstamo será aprobado.\n"
          ]
        }
      ]
    },
    {
      "cell_type": "code",
      "source": [],
      "metadata": {
        "id": "LBFqkMhLpDVP"
      },
      "execution_count": null,
      "outputs": []
    }
  ]
}