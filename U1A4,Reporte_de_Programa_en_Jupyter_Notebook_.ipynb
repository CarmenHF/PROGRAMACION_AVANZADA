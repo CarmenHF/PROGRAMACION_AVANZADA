{
  "nbformat": 4,
  "nbformat_minor": 0,
  "metadata": {
    "colab": {
      "provenance": []
    },
    "kernelspec": {
      "name": "python3",
      "display_name": "Python 3"
    },
    "language_info": {
      "name": "python"
    }
  },
  "cells": [
    {
      "cell_type": "code",
      "execution_count": 29,
      "metadata": {
        "id": "RbjiupxFyigy"
      },
      "outputs": [],
      "source": []
    },
    {
      "cell_type": "markdown",
      "source": [
        "# METODO DE ORDENAMIENTO\n",
        "## Elaborado por: Carmen Hernandez F.\n",
        "### Fecha de Elaboracion: 10/02/2025\n"
      ],
      "metadata": {
        "id": "CTBxYsP7yjZd"
      }
    },
    {
      "cell_type": "code",
      "source": [
        "import time\n",
        "\n",
        "def metodo_burbuja (lista):\n",
        "    print(\"\\n Inicio del ordenamiento....\")\n",
        "    for i in range (len(lista)):\n",
        "        print(\"\\n Pasada: \", i + 1)\n",
        "        for j in range (0, len(lista) - i - 1):\n",
        "            print(\"Elemento: \", i + 1)\n",
        "            print(f\"Comparacion de valor: {lista[j]} con valor: {lista[j + 1]}\")\n",
        "            time.sleep(2)\n",
        "            if lista [j] > lista [j + 1]:\n",
        "                lista [j], lista [j + 1] = lista [j + 1], lista [j]\n",
        "                print(f\"***cambio de elemento {j} por elemento {j + 1}, i + 1***\")\n",
        "    print(\"\\n... Fin del ordenamiento\")\n",
        "    return lista\n",
        "\n",
        "lista_ejemplo = [64, 0, 25, 12, 22, 1, 90]\n",
        "lista_original = lista_ejemplo.copy()\n",
        "lista_ordenada = metodo_burbuja(lista_original)\n",
        "\n",
        "print (\"lista original: \", lista_ejemplo)\n",
        "print(\"lista ordenada: \", lista_ordenada)\n"
      ],
      "metadata": {
        "colab": {
          "base_uri": "https://localhost:8080/"
        },
        "id": "H_yalkYPy4yq",
        "outputId": "299332c4-5b74-46bb-df23-1002fcfa7aa1"
      },
      "execution_count": 30,
      "outputs": [
        {
          "output_type": "stream",
          "name": "stdout",
          "text": [
            "\n",
            " Inicio del ordenamiento....\n",
            "\n",
            " Pasada:  1\n",
            "Elemento:  1\n",
            "Comparacion de valor: 64 con valor: 0\n",
            "***cambio de elemento 0 por elemento 1, i + 1***\n",
            "Elemento:  1\n",
            "Comparacion de valor: 64 con valor: 25\n",
            "***cambio de elemento 1 por elemento 2, i + 1***\n",
            "Elemento:  1\n",
            "Comparacion de valor: 64 con valor: 12\n",
            "***cambio de elemento 2 por elemento 3, i + 1***\n",
            "Elemento:  1\n",
            "Comparacion de valor: 64 con valor: 22\n",
            "***cambio de elemento 3 por elemento 4, i + 1***\n",
            "Elemento:  1\n",
            "Comparacion de valor: 64 con valor: 1\n",
            "***cambio de elemento 4 por elemento 5, i + 1***\n",
            "Elemento:  1\n",
            "Comparacion de valor: 64 con valor: 90\n",
            "\n",
            " Pasada:  2\n",
            "Elemento:  2\n",
            "Comparacion de valor: 0 con valor: 25\n",
            "Elemento:  2\n",
            "Comparacion de valor: 25 con valor: 12\n",
            "***cambio de elemento 1 por elemento 2, i + 1***\n",
            "Elemento:  2\n",
            "Comparacion de valor: 25 con valor: 22\n",
            "***cambio de elemento 2 por elemento 3, i + 1***\n",
            "Elemento:  2\n",
            "Comparacion de valor: 25 con valor: 1\n",
            "***cambio de elemento 3 por elemento 4, i + 1***\n",
            "Elemento:  2\n",
            "Comparacion de valor: 25 con valor: 64\n",
            "\n",
            " Pasada:  3\n",
            "Elemento:  3\n",
            "Comparacion de valor: 0 con valor: 12\n",
            "Elemento:  3\n",
            "Comparacion de valor: 12 con valor: 22\n",
            "Elemento:  3\n",
            "Comparacion de valor: 22 con valor: 1\n",
            "***cambio de elemento 2 por elemento 3, i + 1***\n",
            "Elemento:  3\n",
            "Comparacion de valor: 22 con valor: 25\n",
            "\n",
            " Pasada:  4\n",
            "Elemento:  4\n",
            "Comparacion de valor: 0 con valor: 12\n",
            "Elemento:  4\n",
            "Comparacion de valor: 12 con valor: 1\n",
            "***cambio de elemento 1 por elemento 2, i + 1***\n",
            "Elemento:  4\n",
            "Comparacion de valor: 12 con valor: 22\n",
            "\n",
            " Pasada:  5\n",
            "Elemento:  5\n",
            "Comparacion de valor: 0 con valor: 1\n",
            "Elemento:  5\n",
            "Comparacion de valor: 1 con valor: 12\n",
            "\n",
            " Pasada:  6\n",
            "Elemento:  6\n",
            "Comparacion de valor: 0 con valor: 1\n",
            "\n",
            " Pasada:  7\n",
            "\n",
            "... Fin del ordenamiento\n",
            "lista original:  [64, 0, 25, 12, 22, 1, 90]\n",
            "lista ordenada:  [0, 1, 12, 22, 25, 64, 90]\n"
          ]
        }
      ]
    },
    {
      "cell_type": "code",
      "source": [],
      "metadata": {
        "id": "rTyQZsQmy7I-"
      },
      "execution_count": 30,
      "outputs": []
    },
    {
      "cell_type": "markdown",
      "source": [
        "# METODO DE ORDENAMIENTO QUICKSORT\n",
        "\n"
      ],
      "metadata": {
        "id": "DCvxFwzkz1CB"
      }
    },
    {
      "cell_type": "code",
      "source": [
        "def quick_sort(lista):\n",
        "    if len(lista) < 2:\n",
        "        return lista\n",
        "    else:\n",
        "        pivote = lista[-1]\n",
        "        menores = [x for x in lista [:-1] if x < pivote]\n",
        "        mayores = [x for x in lista [:-1] if x >= pivote]\n",
        "        return quick_sort(menores) + [pivote] + quick_sort(mayores)\n",
        "\n",
        "lista_ejemplo = [64, 0, 25, 12, 22, 1, 90]\n",
        "print (lista_ejemplo [:-1])\n",
        "lista_original = lista_ejemplo.copy()\n",
        "lista_ordenada = quick_sort(lista_original)\n",
        "\n",
        "print (\"lista original: \", lista_ejemplo)\n",
        "print(\"lista ordenada: \", lista_ordenada)\n",
        "\n",
        ""
      ],
      "metadata": {
        "colab": {
          "base_uri": "https://localhost:8080/"
        },
        "id": "64duWgzS3tc9",
        "outputId": "b290677d-1078-4da3-aa60-4012ecbe5510"
      },
      "execution_count": 33,
      "outputs": [
        {
          "output_type": "stream",
          "name": "stdout",
          "text": [
            "[64, 0, 25, 12, 22, 1]\n",
            "lista original:  [64, 0, 25, 12, 22, 1, 90]\n",
            "lista ordenada:  [0, 1, 12, 22, 25, 64, 90]\n"
          ]
        }
      ]
    },
    {
      "cell_type": "code",
      "source": [],
      "metadata": {
        "id": "KF8Nvha40Y2v"
      },
      "execution_count": 31,
      "outputs": []
    },
    {
      "cell_type": "markdown",
      "source": [
        "# EVALUACION Y COMPARACION DEL METODO BURBUJA & METODO QUICK\n",
        "\n"
      ],
      "metadata": {
        "id": "TGiO_UXX76P_"
      }
    },
    {
      "cell_type": "code",
      "source": [
        "import time\n",
        "import random\n",
        "\n",
        "def metodo_burbuja(lista):\n",
        "    \"\"\"Implementación del método de ordenamiento Burbuja.\"\"\"\n",
        "    n = len(lista)\n",
        "    for i in range(n):\n",
        "        for j in range(0, n - i - 1):\n",
        "            if lista[j] > lista[j + 1]:\n",
        "                lista[j], lista[j + 1] = lista[j + 1], lista[j]\n",
        "    return lista\n",
        "\n",
        "def quick_sort(lista):\n",
        "    \"\"\"Implementación del método de ordenamiento QuickSort.\"\"\"\n",
        "    if len(lista) < 2:\n",
        "        return lista\n",
        "    else:\n",
        "        pivote = lista[-1]\n",
        "        menores = [x for x in lista[:-1] if x < pivote]\n",
        "        mayores = [x for x in lista[:-1] if x >= pivote]\n",
        "        return quick_sort(menores) + [pivote] + quick_sort(mayores)\n",
        "\n",
        "def medir_tiempo(algoritmo, lista):\n",
        "    \"\"\"Mide el tiempo de ejecución de un algoritmo de ordenamiento.\"\"\"\n",
        "    inicio = time.time()\n",
        "    resultado = algoritmo(lista.copy())  # Copia la lista para evitar modificarla\n",
        "    fin = time.time()\n",
        "    return fin - inicio\n",
        "\n",
        "# Generar listas de prueba de diferentes tamaños\n",
        "tamaños = [100, 1000,5000,7500, 10000, ]\n",
        "resultados = {}\n",
        "\n",
        "for n in tamaños:\n",
        "    lista_prueba = [random.randint(0, 10000) for _ in range(n)]\n",
        "    tiempo_burbuja = medir_tiempo(metodo_burbuja, lista_prueba)\n",
        "    tiempo_quick = medir_tiempo(quick_sort, lista_prueba)\n",
        "\n",
        "    resultados[n] = {\n",
        "        \"Burbuja\": tiempo_burbuja,\n",
        "        \"QuickSort\": tiempo_quick\n",
        "    }\n",
        "\n",
        "# Imprimir resultados\n",
        "print(\"Comparación de tiempos de ejecución:\")\n",
        "for tamaño, tiempos in resultados.items():\n",
        "    print(f\"\\nTamaño de la lista: {tamaño}\")\n",
        "    print(f\"Método Burbuja: {tiempos['Burbuja']:.6f} segundos\")\n",
        "    print(f\"QuickSort: {tiempos['QuickSort']:.6f} segundos\")\n",
        "\n",
        "\n"
      ],
      "metadata": {
        "colab": {
          "base_uri": "https://localhost:8080/"
        },
        "id": "Ie5Su0pD4vpt",
        "outputId": "646fd066-60d6-45b8-89e9-d32b76707c81"
      },
      "execution_count": 35,
      "outputs": [
        {
          "output_type": "stream",
          "name": "stdout",
          "text": [
            "Comparación de tiempos de ejecución:\n",
            "\n",
            "Tamaño de la lista: 100\n",
            "Método Burbuja: 0.000624 segundos\n",
            "QuickSort: 0.000192 segundos\n",
            "\n",
            "Tamaño de la lista: 1000\n",
            "Método Burbuja: 0.047652 segundos\n",
            "QuickSort: 0.001640 segundos\n",
            "\n",
            "Tamaño de la lista: 5000\n",
            "Método Burbuja: 1.283167 segundos\n",
            "QuickSort: 0.008601 segundos\n",
            "\n",
            "Tamaño de la lista: 7500\n",
            "Método Burbuja: 2.865467 segundos\n",
            "QuickSort: 0.013415 segundos\n",
            "\n",
            "Tamaño de la lista: 10000\n",
            "Método Burbuja: 6.169854 segundos\n",
            "QuickSort: 0.032757 segundos\n"
          ]
        }
      ]
    },
    {
      "cell_type": "code",
      "source": [],
      "metadata": {
        "id": "RQI5nRMj8RHo"
      },
      "execution_count": null,
      "outputs": []
    }
  ]
}